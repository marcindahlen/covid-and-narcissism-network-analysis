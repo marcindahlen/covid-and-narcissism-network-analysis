{
 "cells": [
  {
   "cell_type": "code",
   "execution_count": 1,
   "id": "62ba9cb8",
   "metadata": {},
   "outputs": [],
   "source": [
    "import pandas\n",
    "import networkx\n",
    "import seaborn\n",
    "import pyreadstat"
   ]
  },
  {
   "cell_type": "code",
   "execution_count": 2,
   "id": "085d89b1",
   "metadata": {},
   "outputs": [
    {
     "name": "stdout",
     "output_type": "stream",
     "text": [
      "               Id  ATT_1_1  ATT_1_2        TIME_1        TIME_2  \\\n",
      "count  547.000000    547.0    547.0    547.000000    547.000000   \n",
      "mean   400.363803      3.0      6.0   2026.182815   2363.204753   \n",
      "std    234.871380      0.0      0.0   3907.846720   5401.750811   \n",
      "min      1.000000      3.0      6.0    221.000000    264.000000   \n",
      "25%    203.500000      3.0      6.0    941.000000    932.500000   \n",
      "50%    389.000000      3.0      6.0   1274.000000   1408.000000   \n",
      "75%    596.500000      3.0      6.0   1876.000000   2040.000000   \n",
      "max    832.000000      3.0      6.0  55552.000000  88447.000000   \n",
      "\n",
      "              TIME_3  ZGODA3  ATT_2_1  ATT_2_2  ATT_2_3  ...   CNS_v8_t5  \\\n",
      "count     547.000000   547.0    547.0    547.0    547.0  ...  547.000000   \n",
      "mean     4137.669104     1.0      4.0      5.0      4.0  ...    3.965265   \n",
      "std     15902.126067     0.0      0.0      0.0      0.0  ...    1.137741   \n",
      "min       260.000000     1.0      4.0      5.0      4.0  ...    1.000000   \n",
      "25%       988.500000     1.0      4.0      5.0      4.0  ...    3.500000   \n",
      "50%      1556.000000     1.0      4.0      5.0      4.0  ...    4.000000   \n",
      "75%      2360.500000     1.0      4.0      5.0      4.0  ...    4.625000   \n",
      "max    278906.000000     1.0      4.0      5.0      4.0  ...    6.875000   \n",
      "\n",
      "       MACH_DT_t5   NAR_DT_t5  PSYCH_DT_t5  col_communal_narcissism_t5  \\\n",
      "count  547.000000  547.000000   547.000000                  547.000000   \n",
      "mean     2.275594    2.489031     2.408592                    3.669627   \n",
      "std      0.899371    0.871359     0.795252                    1.351610   \n",
      "min      1.000000    1.000000     1.000000                    1.000000   \n",
      "25%      1.500000    2.000000     1.750000                    2.714286   \n",
      "50%      2.000000    2.500000     2.500000                    4.000000   \n",
      "75%      3.000000    3.000000     3.000000                    4.428571   \n",
      "max      5.000000    5.000000     5.000000                    7.000000   \n",
      "\n",
      "       Wiedza_koronavir_t5  WHO_FIZ_t4  WHO_SPOL_t4  BOGARDUS_uchodz_t4  \\\n",
      "count           547.000000  547.000000   547.000000          547.000000   \n",
      "mean             -0.346537    5.854662     6.211152            2.741499   \n",
      "std               0.180022    1.703366     1.663749            1.067166   \n",
      "min              -0.555556    1.000000     1.000000            1.000000   \n",
      "25%              -0.444444    5.000000     5.000000            2.000000   \n",
      "50%              -0.333333    6.000000     6.500000            2.600000   \n",
      "75%              -0.333333    7.000000     7.000000            3.400000   \n",
      "max               0.222222    9.000000     9.000000            5.000000   \n",
      "\n",
      "       BOGARDUS_lgbtq_t4  \n",
      "count         547.000000  \n",
      "mean            2.371846  \n",
      "std             1.084157  \n",
      "min             1.000000  \n",
      "25%             1.400000  \n",
      "50%             2.200000  \n",
      "75%             3.000000  \n",
      "max             5.000000  \n",
      "\n",
      "[8 rows x 504 columns]\n"
     ]
    }
   ],
   "source": [
    "df_original, meta_original = pyreadstat.read_sav(\"data-covid-source.sav\")\n",
    "print(df_original.describe())"
   ]
  },
  {
   "cell_type": "code",
   "execution_count": null,
   "id": "4ea801ba",
   "metadata": {},
   "outputs": [],
   "source": []
  }
 ],
 "metadata": {
  "kernelspec": {
   "display_name": "Python 3 (ipykernel)",
   "language": "python",
   "name": "python3"
  },
  "language_info": {
   "codemirror_mode": {
    "name": "ipython",
    "version": 3
   },
   "file_extension": ".py",
   "mimetype": "text/x-python",
   "name": "python",
   "nbconvert_exporter": "python",
   "pygments_lexer": "ipython3",
   "version": "3.11.1"
  }
 },
 "nbformat": 4,
 "nbformat_minor": 5
}
