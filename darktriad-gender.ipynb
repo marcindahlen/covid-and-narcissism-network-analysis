{
 "cells": [
  {
   "cell_type": "code",
   "execution_count": null,
   "id": "71712687",
   "metadata": {},
   "outputs": [],
   "source": [
    "import pandas\n",
    "import numpy\n",
    "import scipy.stats as stats\n",
    "import networkx\n",
    "import seaborn\n",
    "import matplotlib\n",
    "import matplotlib.pyplot as plt\n",
    "import matplotlib.patches as mpatches\n",
    "import pyreadstat"
   ]
  },
  {
   "cell_type": "code",
   "execution_count": null,
   "id": "b64fe9ca",
   "metadata": {},
   "outputs": [],
   "source": [
    "df_original, meta_original = pyreadstat.read_sav(\"data-covid-source.sav\")\n",
    "print(f\"There're {len(df_original.columns)} variables in the data:\")\n",
    "pandas.set_option('display.max_columns', None)\n",
    "# pandas.set_option(\"display.max_rows\", None)\n",
    "pandas.set_option(\"display.precision\", 1)\n",
    "display(df_original.describe(percentiles=[]).transpose())\n",
    "pandas.reset_option(\"max_columns\")\n",
    "# pandas.reset_option(\"max_rows\")\n",
    "pandas.reset_option(\"precision\")"
   ]
  },
  {
   "cell_type": "markdown",
   "id": "4db953b0",
   "metadata": {},
   "source": [
    "In the above table there's some basic information on 510 variables measuring various psychological metrics from a longitude study of 547 people.\n",
    "There were 5 measurements, each one week apart from the others.\n",
    "The variables encode the number of measurement in their name by appending \"_t2\", _t3\", ... to their name. For the first measurement \"_t1\" is sometimes appended, sometimes not, depending on the variable.\n",
    "For some variables, not all 5 measurements are present - for example for communal narcissm (\"cni\" in the source data) the measurements are from week 1 and week 5 only. In the \"cni\" example, there are 16 variables from \"cni1\" to \"cni16\" describing various 16 metrics of communal narcissm, and are followed up with \"cni1_t5\" to \"cni16_t5\" (where \"_t5\" indicates the week no. 5 of measurement taken)."
   ]
  },
  {
   "cell_type": "markdown",
   "id": "9fa4aba9",
   "metadata": {},
   "source": [
    "The goal of this excercise is to:<br>\n",
    "1. perform paired sample t-test for following measurements;\n",
    "1. compute [Cohen's d - effect size value](https://en.wikipedia.org/wiki/Effect_size#Cohen's_d);\n",
    "1. plot the change in time (with mean trajectories);\n",
    "1. compute partial correlation networks and basic networks' metrics;\n",
    "1. plot the networks (with only signifcant changes - uncorrected p>0.05);\n",
    "1. plot correlogram for average absolute edge values between and within questionnaires;\n",
    "1. plot basic graphs' metrics for particular measurements at different times to easily observe change (or lack of thereof);\n",
    "1. compute and show in correlation matrix the Pearson's correlation of considered variables\n",
    "\n",
    "Only selected variables are to be considered, and those are:\n",
    "1. [Dark Triad](https://en.wikipedia.org/wiki/Dark_triad) (\"DT\");\n",
    "1. Sex (\"sex\") - as a categorical variable;\n",
    "\n",
    "As may be observed in the commits history, previously more variables were considered, but the decision was made to consider only CNI and knowledge relation change here, and Dark Triad to gender relation change in the second notebook (available in this repository).\n"
   ]
  },
  {
   "cell_type": "code",
   "execution_count": null,
   "id": "3c1ff06b",
   "metadata": {},
   "outputs": [],
   "source": [
    "# to be done..."
   ]
  }
 ],
 "metadata": {
  "kernelspec": {
   "display_name": "Python 3 (ipykernel)",
   "language": "python",
   "name": "python3"
  },
  "language_info": {
   "codemirror_mode": {
    "name": "ipython",
    "version": 3
   },
   "file_extension": ".py",
   "mimetype": "text/x-python",
   "name": "python",
   "nbconvert_exporter": "python",
   "pygments_lexer": "ipython3",
   "version": "3.11.1"
  }
 },
 "nbformat": 4,
 "nbformat_minor": 5
}
